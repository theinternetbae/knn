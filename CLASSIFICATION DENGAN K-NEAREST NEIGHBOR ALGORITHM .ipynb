{
 "cells": [
  {
   "cell_type": "markdown",
   "metadata": {},
   "source": [
    "# CLASSIFICATION DENGAN K-NEAREST NEIGHBOR ALGORITHM "
   ]
  },
  {
   "cell_type": "code",
   "execution_count": 1,
   "metadata": {},
   "outputs": [],
   "source": [
    "import numpy as np\n",
    "import pandas as pd\n",
    "%matplotlib inline\n",
    "import matplotlib.pyplot as plt\n",
    "plt.style.use(\"ggplot\")"
   ]
  },
  {
   "cell_type": "markdown",
   "metadata": {},
   "source": [
    "### IMPORT DATA"
   ]
  },
  {
   "cell_type": "code",
   "execution_count": 2,
   "metadata": {},
   "outputs": [],
   "source": [
    "df = pd.read_csv(\"https://archive.ics.uci.edu/ml/machine-learning-databases/wine-quality/winequality-red.csv\", sep=\";\")"
   ]
  },
  {
   "cell_type": "code",
   "execution_count": 3,
   "metadata": {},
   "outputs": [],
   "source": [
    "\"memsiahkan target variable dengan predictor variable\"\n",
    "X = df.drop('quality', 1)"
   ]
  },
  {
   "cell_type": "markdown",
   "metadata": {},
   "source": [
    "## EKSTRAK VALUE"
   ]
  },
  {
   "cell_type": "code",
   "execution_count": 4,
   "metadata": {},
   "outputs": [
    {
     "data": {
      "text/plain": [
       "array([[ 7.4  ,  0.7  ,  0.   , ...,  3.51 ,  0.56 ,  9.4  ],\n",
       "       [ 7.8  ,  0.88 ,  0.   , ...,  3.2  ,  0.68 ,  9.8  ],\n",
       "       [ 7.8  ,  0.76 ,  0.04 , ...,  3.26 ,  0.65 ,  9.8  ],\n",
       "       ...,\n",
       "       [ 6.3  ,  0.51 ,  0.13 , ...,  3.42 ,  0.75 , 11.   ],\n",
       "       [ 5.9  ,  0.645,  0.12 , ...,  3.57 ,  0.71 , 10.2  ],\n",
       "       [ 6.   ,  0.31 ,  0.47 , ...,  3.39 ,  0.66 , 11.   ]])"
      ]
     },
     "execution_count": 4,
     "metadata": {},
     "output_type": "execute_result"
    }
   ],
   "source": [
    "\"ekstrak values menjadi n-dimansional array\"\n",
    "X = X.values\n",
    "X # ini adalah feature matrix"
   ]
  },
  {
   "cell_type": "code",
   "execution_count": 5,
   "metadata": {},
   "outputs": [
    {
     "data": {
      "text/plain": [
       "array([5, 5, 5, ..., 6, 5, 6], dtype=int64)"
      ]
     },
     "execution_count": 5,
     "metadata": {},
     "output_type": "execute_result"
    }
   ],
   "source": [
    "\"ekstrak target variable\"\n",
    "y1 = df['quality'].values\n",
    "y1"
   ]
  },
  {
   "cell_type": "markdown",
   "metadata": {},
   "source": [
    "## SPLIT DATA TRAINING DAN TEST"
   ]
  },
  {
   "cell_type": "code",
   "execution_count": 6,
   "metadata": {},
   "outputs": [
    {
     "name": "stderr",
     "output_type": "stream",
     "text": [
      "C:\\Users\\bitxt\\Anaconda3\\lib\\site-packages\\sklearn\\cross_validation.py:41: DeprecationWarning: This module was deprecated in version 0.18 in favor of the model_selection module into which all the refactored classes and functions are moved. Also note that the interface of the new CV iterators are different from that of this module. This module will be removed in 0.20.\n",
      "  \"This module will be removed in 0.20.\", DeprecationWarning)\n"
     ]
    },
    {
     "data": {
      "text/plain": [
       "(1279, 11)"
      ]
     },
     "execution_count": 6,
     "metadata": {},
     "output_type": "execute_result"
    }
   ],
   "source": [
    "from sklearn.cross_validation import train_test_split\n",
    "\n",
    "\"split data menjadi training set dan testing set\"\n",
    "\n",
    "X_train, X_test, y_train, y_test = train_test_split(X, y1, test_size=0.2, random_state = 42)\n",
    "X_train.shape"
   ]
  },
  {
   "cell_type": "markdown",
   "metadata": {},
   "source": [
    "## PROSES TRAINING"
   ]
  },
  {
   "cell_type": "code",
   "execution_count": 7,
   "metadata": {},
   "outputs": [],
   "source": [
    "from sklearn import neighbors\n",
    "knn = neighbors.KNeighborsClassifier(n_neighbors=3) # mencoba jumlah K (3) neighbors\n",
    "knn_model_1 = knn.fit(X_train, y_train)"
   ]
  },
  {
   "cell_type": "markdown",
   "metadata": {},
   "source": [
    "## TESTING AKURASI MODEL"
   ]
  },
  {
   "cell_type": "code",
   "execution_count": 8,
   "metadata": {},
   "outputs": [
    {
     "name": "stdout",
     "output_type": "stream",
     "text": [
      "model accuracy for test set:  0.453125\n"
     ]
    }
   ],
   "source": [
    "knn_result_1 = knn_model_1.score(X_test, y_test)\n",
    "print(\"model accuracy for test set: \", knn_result_1)"
   ]
  },
  {
   "cell_type": "code",
   "execution_count": 9,
   "metadata": {},
   "outputs": [
    {
     "name": "stdout",
     "output_type": "stream",
     "text": [
      "             precision    recall  f1-score   support\n",
      "\n",
      "          3       0.00      0.00      0.00         1\n",
      "          4       0.06      0.10      0.08        10\n",
      "          5       0.53      0.62      0.57       130\n",
      "          6       0.43      0.39      0.41       132\n",
      "          7       0.40      0.29      0.33        42\n",
      "          8       0.00      0.00      0.00         5\n",
      "\n",
      "avg / total       0.45      0.45      0.45       320\n",
      "\n"
     ]
    }
   ],
   "source": [
    "\"mengetahui report detail metrics\"\n",
    "from sklearn.metrics import classification_report\n",
    "y_true, y_pred = y_test, knn_model_1.predict(X_test)\n",
    "print(classification_report(y_true, y_pred))"
   ]
  },
  {
   "cell_type": "code",
   "execution_count": 10,
   "metadata": {},
   "outputs": [
    {
     "data": {
      "text/plain": [
       "array([[ 0,  0,  1,  0,  0,  0],\n",
       "       [ 0,  1,  2,  7,  0,  0],\n",
       "       [ 1,  4, 81, 40,  3,  1],\n",
       "       [ 0, 11, 57, 51, 13,  0],\n",
       "       [ 0,  0, 10, 18, 12,  2],\n",
       "       [ 0,  0,  1,  2,  2,  0]], dtype=int64)"
      ]
     },
     "execution_count": 10,
     "metadata": {},
     "output_type": "execute_result"
    }
   ],
   "source": [
    "from sklearn.metrics import confusion_matrix\n",
    "confusion_matrix(y_true, y_pred)"
   ]
  },
  {
   "cell_type": "markdown",
   "metadata": {},
   "source": [
    "## LAKUKAN PROSES TRAINING DENGAN K YANG BERBEDA"
   ]
  },
  {
   "cell_type": "code",
   "execution_count": 11,
   "metadata": {},
   "outputs": [
    {
     "name": "stdout",
     "output_type": "stream",
     "text": [
      "KNN accuracy for test set:  0.4625\n"
     ]
    }
   ],
   "source": [
    "knn_7 = neighbors.KNeighborsClassifier(n_neighbors=7)\n",
    "knn_model_1_k7 = knn_7.fit(X_train, y_train)\n",
    "knn_result_1_k7 = knn_model_1_k7.score(X_test, y_test)\n",
    "print(\"KNN accuracy for test set: \", knn_result_1_k7)"
   ]
  },
  {
   "cell_type": "code",
   "execution_count": 12,
   "metadata": {},
   "outputs": [
    {
     "name": "stdout",
     "output_type": "stream",
     "text": [
      "KNN accuracy for test set:  0.475\n"
     ]
    }
   ],
   "source": [
    "knn_11 = neighbors.KNeighborsClassifier(n_neighbors=11)\n",
    "knn_model_1_k11 = knn_11.fit(X_train, y_train)\n",
    "knn_result_1_k11 = knn_model_1_k11.score(X_test, y_test)\n",
    "print(\"KNN accuracy for test set: \", knn_result_1_k11)"
   ]
  },
  {
   "cell_type": "code",
   "execution_count": 13,
   "metadata": {},
   "outputs": [
    {
     "name": "stdout",
     "output_type": "stream",
     "text": [
      "KNN accuracy for test set:  0.459375\n"
     ]
    }
   ],
   "source": [
    "knn_15 = neighbors.KNeighborsClassifier(n_neighbors=15)\n",
    "knn_model_1_k15 = knn_15.fit(X_train, y_train)\n",
    "knn_result_1_k15 = knn_model_1_k15.score(X_test, y_test)\n",
    "print(\"KNN accuracy for test set: \", knn_result_1_k15)"
   ]
  },
  {
   "cell_type": "code",
   "execution_count": 14,
   "metadata": {},
   "outputs": [
    {
     "data": {
      "text/plain": [
       "[<matplotlib.lines.Line2D at 0x1b444a0aef0>]"
      ]
     },
     "execution_count": 14,
     "metadata": {},
     "output_type": "execute_result"
    },
    {
     "data": {
      "image/png": "[encoded data removed]",
      "text/plain": [
       "<matplotlib.figure.Figure at 0x1b444970a58>"
      ]
     },
     "metadata": {},
     "output_type": "display_data"
    }
   ],
   "source": [
    "plt.plot([3, 7, 11, 15], [knn_result_1, knn_result_1_k7, knn_result_1_k11, knn_result_1_k15])"
   ]
  },
  {
   "cell_type": "markdown",
   "metadata": {},
   "source": [
    "## Menyederhanakan kasus, mapping classification label dari multiclass menjadi binnary class"
   ]
  },
  {
   "cell_type": "code",
   "execution_count": 15,
   "metadata": {},
   "outputs": [
    {
     "data": {
      "image/png": "[encoded data removed]",
      "text/plain": [
       "<matplotlib.figure.Figure at 0x1b444a3ceb8>"
      ]
     },
     "metadata": {},
     "output_type": "display_data"
    }
   ],
   "source": [
    "y = y1 <= 6\n",
    "\n",
    "plt.figure(figsize=(20, 5))\n",
    "plt.subplot(1, 2, 1)\n",
    "plt.hist(y1)\n",
    "plt.xlabel(\"original target value\")\n",
    "plt.ylabel(\"count\")\n",
    "plt.subplot(1, 2, 2)\n",
    "plt.hist(y)\n",
    "plt.xlabel('aggregate target value')\n",
    "plt.show()"
   ]
  },
  {
   "cell_type": "code",
   "execution_count": 16,
   "metadata": {},
   "outputs": [
    {
     "data": {
      "text/plain": [
       "array([[ 8.7 ,  0.69,  0.31, ...,  3.48,  0.74, 11.6 ],\n",
       "       [ 6.1 ,  0.21,  0.4 , ...,  3.25,  0.59, 11.9 ],\n",
       "       [10.9 ,  0.39,  0.47, ...,  3.3 ,  0.75,  9.8 ],\n",
       "       ...,\n",
       "       [ 7.2 ,  0.62,  0.06, ...,  3.51,  0.54,  9.5 ],\n",
       "       [ 7.9 ,  0.2 ,  0.35, ...,  3.32,  0.8 , 11.9 ],\n",
       "       [ 5.8 ,  0.29,  0.26, ...,  3.39,  0.54, 13.5 ]])"
      ]
     },
     "execution_count": 16,
     "metadata": {},
     "output_type": "execute_result"
    }
   ],
   "source": [
    "from sklearn.cross_validation import train_test_split\n",
    "\n",
    "X_train, X_test, y_train, y_test = train_test_split(X, y, test_size=0.2, random_state=42)\n",
    "X_train"
   ]
  },
  {
   "cell_type": "markdown",
   "metadata": {},
   "source": [
    "## TRAINING DATA"
   ]
  },
  {
   "cell_type": "code",
   "execution_count": 17,
   "metadata": {},
   "outputs": [],
   "source": [
    "from sklearn.neighbors import KNeighborsClassifier\n",
    "knn = KNeighborsClassifier(n_neighbors=3)\n",
    "knn_model_2 = knn.fit(X_train, y_train)"
   ]
  },
  {
   "cell_type": "code",
   "execution_count": 18,
   "metadata": {},
   "outputs": [
    {
     "name": "stdout",
     "output_type": "stream",
     "text": [
      "KNN MODEL 2 ACCURACY:  0.85\n"
     ]
    }
   ],
   "source": [
    "\"Test akurasi model\"\n",
    "knn_result_2 = knn_model_2.score(X_test, y_test)\n",
    "print(\"KNN MODEL 2 ACCURACY: \", knn_result_2)"
   ]
  },
  {
   "cell_type": "code",
   "execution_count": 19,
   "metadata": {},
   "outputs": [
    {
     "name": "stdout",
     "output_type": "stream",
     "text": [
      "             precision    recall  f1-score   support\n",
      "\n",
      "      False       0.48      0.34      0.40        47\n",
      "       True       0.89      0.94      0.91       273\n",
      "\n",
      "avg / total       0.83      0.85      0.84       320\n",
      "\n"
     ]
    }
   ],
   "source": [
    "from sklearn.metrics import classification_report\n",
    "y_true, y_pred = y_test, knn_model_2.predict(X_test)\n",
    "print(classification_report(y_true, y_pred))"
   ]
  },
  {
   "cell_type": "code",
   "execution_count": 20,
   "metadata": {},
   "outputs": [
    {
     "data": {
      "text/plain": [
       "array([[ 16,  31],\n",
       "       [ 17, 256]], dtype=int64)"
      ]
     },
     "execution_count": 20,
     "metadata": {},
     "output_type": "execute_result"
    }
   ],
   "source": [
    "from sklearn.metrics import confusion_matrix\n",
    "confusion_matrix(y_test, y_pred)"
   ]
  },
  {
   "cell_type": "code",
   "execution_count": 21,
   "metadata": {},
   "outputs": [
    {
     "data": {
      "text/plain": [
       "array([[ 7.7  ,  0.56 ,  0.08 , ...,  3.24 ,  0.66 ,  9.6  ],\n",
       "       [ 7.8  ,  0.5  ,  0.17 , ...,  3.39 ,  0.48 ,  9.5  ],\n",
       "       [10.7  ,  0.67 ,  0.22 , ...,  3.28 ,  0.98 ,  9.9  ],\n",
       "       ...,\n",
       "       [ 8.3  ,  0.6  ,  0.25 , ...,  3.15 ,  0.53 ,  9.8  ],\n",
       "       [ 8.8  ,  0.27 ,  0.39 , ...,  3.15 ,  0.69 , 11.2  ],\n",
       "       [ 9.1  ,  0.765,  0.04 , ...,  3.29 ,  0.54 ,  9.7  ]])"
      ]
     },
     "execution_count": 21,
     "metadata": {},
     "output_type": "execute_result"
    }
   ],
   "source": [
    "X_test"
   ]
  },
  {
   "cell_type": "markdown",
   "metadata": {},
   "source": [
    "## Data preprocessing menggunakan Scale"
   ]
  },
  {
   "cell_type": "markdown",
   "metadata": {},
   "source": [
    "- Normalization adalah mengubah range data dari 0 sampai 1. Rumus: x_norm = (x-x_min)/(x_max-x_min)\n",
    "- Standarization adalah memusatkan data ke nilai standard (kalau dalam statistika disebut z-score). Rumus: x_standard = (x-mean)/std"
   ]
  },
  {
   "cell_type": "code",
   "execution_count": 22,
   "metadata": {},
   "outputs": [
    {
     "data": {
      "text/plain": [
       "array([[<matplotlib.axes._subplots.AxesSubplot object at 0x000001B444AD7080>,\n",
       "        <matplotlib.axes._subplots.AxesSubplot object at 0x000001B444B8AB00>,\n",
       "        <matplotlib.axes._subplots.AxesSubplot object at 0x000001B444BC3BE0>],\n",
       "       [<matplotlib.axes._subplots.AxesSubplot object at 0x000001B444BFCCC0>,\n",
       "        <matplotlib.axes._subplots.AxesSubplot object at 0x000001B444C3F320>,\n",
       "        <matplotlib.axes._subplots.AxesSubplot object at 0x000001B444C3F358>],\n",
       "       [<matplotlib.axes._subplots.AxesSubplot object at 0x000001B444CA4748>,\n",
       "        <matplotlib.axes._subplots.AxesSubplot object at 0x000001B444CDB828>,\n",
       "        <matplotlib.axes._subplots.AxesSubplot object at 0x000001B444D12E48>],\n",
       "       [<matplotlib.axes._subplots.AxesSubplot object at 0x000001B444D4B358>,\n",
       "        <matplotlib.axes._subplots.AxesSubplot object at 0x000001B444F513C8>,\n",
       "        <matplotlib.axes._subplots.AxesSubplot object at 0x000001B444F8D4A8>]],\n",
       "      dtype=object)"
      ]
     },
     "execution_count": 22,
     "metadata": {},
     "output_type": "execute_result"
    },
    {
     "data": {
      "image/png": "[encoded data removed]",
      "text/plain": [
       "<matplotlib.figure.Figure at 0x1b444a1ada0>"
      ]
     },
     "metadata": {},
     "output_type": "display_data"
    }
   ],
   "source": [
    "\"exploratory data analysis\"\n",
    "\"dari plot ini, kita bisa memahami bahwa setiap feature memiliki range yang berbeda\"\n",
    "pd.DataFrame.hist(df, figsize=[15, 15]) # menampilkan histogram untuk semua features dari df"
   ]
  },
  {
   "cell_type": "code",
   "execution_count": 23,
   "metadata": {},
   "outputs": [],
   "source": [
    "from sklearn.preprocessing import scale\n",
    "Xs = scale(X)"
   ]
  },
  {
   "cell_type": "code",
   "execution_count": 37,
   "metadata": {},
   "outputs": [
    {
     "data": {
      "text/plain": [
       "array([[ 0.21852997,  0.90601191,  0.20039205, ...,  1.09426457,\n",
       "         0.48302886,  1.10483337],\n",
       "       [-1.27524919, -1.77549685,  0.66254621, ..., -0.39596939,\n",
       "        -0.40216729,  1.38643512],\n",
       "       [ 1.48249695, -0.76993107,  1.02199944, ..., -0.07200549,\n",
       "         0.54204194, -0.58477711],\n",
       "       ...,\n",
       "       [-0.6432657 ,  0.51495855, -1.08336951, ...,  1.28864292,\n",
       "        -0.69723268, -0.86637886],\n",
       "       [-0.24109439, -1.83136161,  0.4057939 , ...,  0.05758008,\n",
       "         0.83710732,  1.38643512],\n",
       "       [-1.44760832, -1.32857872, -0.05636026, ...,  0.51112954,\n",
       "        -0.69723268,  2.8883111 ]])"
      ]
     },
     "execution_count": 37,
     "metadata": {},
     "output_type": "execute_result"
    }
   ],
   "source": [
    "\"spliting data dengan data Xs\"\n",
    "from sklearn.cross_validation import train_test_split\n",
    "y = y1 <= 6\n",
    "X_train, X_test, y_train, y_test = train_test_split(Xs, y, test_size=0.2, random_state=42)\n",
    "X_train"
   ]
  },
  {
   "cell_type": "code",
   "execution_count": 59,
   "metadata": {},
   "outputs": [
    {
     "name": "stdout",
     "output_type": "stream",
     "text": [
      "KNN score for test set:  0.86875\n",
      "KNN score for training set:  0.9374511336982018\n",
      "Bagus\n"
     ]
    }
   ],
   "source": [
    "\"training untuk model knn 3\"\n",
    "knn = KNeighborsClassifier(n_neighbors=3)\n",
    "knn_model_3 = knn.fit(X_train, y_train)\n",
    "print(\"KNN score for test set: \", knn_model_3.score(X_test, y_test))\n",
    "print(\"KNN score for training set: \", knn_model_3.score(X_train, y_train)) # np.expand_dims(X_test[10], axis=0)\n",
    "result = knn_model_3.predict(np.expand_dims(X_test[1], axis=0))\n",
    "if result == True:\n",
    "    print(\"Bagus\")\n",
    "else:\n",
    "    print(\"jelek\")"
   ]
  },
  {
   "cell_type": "code",
   "execution_count": 26,
   "metadata": {},
   "outputs": [
    {
     "name": "stdout",
     "output_type": "stream",
     "text": [
      "             precision    recall  f1-score   support\n",
      "\n",
      "      False       0.57      0.43      0.49        47\n",
      "       True       0.91      0.95      0.92       273\n",
      "\n",
      "avg / total       0.86      0.87      0.86       320\n",
      "\n"
     ]
    }
   ],
   "source": [
    "y_true, y_pred = y_test, knn_model_3.predict(X_test)\n",
    "print(classification_report(y_true, y_pred))"
   ]
  }
 ],
 "metadata": {
  "kernelspec": {
   "display_name": "Python 3",
   "language": "python",
   "name": "python3"
  },
  "language_info": {
   "codemirror_mode": {
    "name": "ipython",
    "version": 3
   },
   "file_extension": ".py",
   "mimetype": "text/x-python",
   "name": "python",
   "nbconvert_exporter": "python",
   "pygments_lexer": "ipython3",
   "version": "3.6.4"
  }
 },
 "nbformat": 4,
 "nbformat_minor": 2
}
